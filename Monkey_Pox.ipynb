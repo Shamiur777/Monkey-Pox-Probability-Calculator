{
  "nbformat": 4,
  "nbformat_minor": 0,
  "metadata": {
    "colab": {
      "provenance": [],
      "gpuType": "V28"
    },
    "kernelspec": {
      "name": "python3",
      "display_name": "Python 3"
    },
    "language_info": {
      "name": "python"
    },
    "accelerator": "TPU"
  },
  "cells": [
    {
      "cell_type": "code",
      "execution_count": 1,
      "metadata": {
        "id": "vV8CQ7z1oNZg",
        "colab": {
          "base_uri": "https://localhost:8080/"
        },
        "outputId": "d36fb49b-6b8a-4f8e-921e-a376754b5bba"
      },
      "outputs": [
        {
          "output_type": "execute_result",
          "data": {
            "text/plain": [
              "['Monkey Pox Dataset', 'Other Dataset', 'Normal Dataset']"
            ]
          },
          "metadata": {},
          "execution_count": 1
        }
      ],
      "source": [
        "import os\n",
        "\n",
        "# Define the correct path to your dataset folder\n",
        "dataset_path = '/content/drive/My Drive/Colab Notebooks/Monkey Pox/Monkey Pox Dataset'\n",
        "\n",
        "# Change the current working directory to the dataset path\n",
        "os.chdir(dataset_path)\n",
        "\n",
        "# List the files and folders in the dataset directory to confirm\n",
        "os.listdir(dataset_path)\n"
      ]
    },
    {
      "cell_type": "code",
      "source": [
        "import tensorflow as tf\n",
        "from tensorflow.keras.preprocessing.image import ImageDataGenerator\n",
        "from tensorflow.keras.models import Sequential\n",
        "from tensorflow.keras.layers import Conv2D, MaxPooling2D, Flatten, Dense, Dropout\n",
        "import numpy as np"
      ],
      "metadata": {
        "id": "AMVV_2eI7tvS"
      },
      "execution_count": 2,
      "outputs": []
    },
    {
      "cell_type": "code",
      "source": [
        "# Paths to the datasets\n",
        "monkey_pox_path = '/content/drive/My Drive/Colab Notebooks/Monkey Pox/Monkey Pox Dataset'\n",
        "other_poxes_path = '/content/drive/My Drive/Colab Notebooks/Monkey Pox/Other Dataset'\n",
        "healthy_skin_path = '/content/drive/My Drive/Colab Notebooks/Monkey Pox/Normal Dataset'"
      ],
      "metadata": {
        "id": "UdSPzYmf7wK9"
      },
      "execution_count": 3,
      "outputs": []
    },
    {
      "cell_type": "code",
      "source": [
        "from tensorflow.keras.preprocessing.image import ImageDataGenerator\n",
        "from tensorflow.keras.models import Sequential\n",
        "from tensorflow.keras.layers import Conv2D, MaxPooling2D, Flatten, Dense, Dropout\n",
        "\n",
        "# Data preprocessing and augmentation\n",
        "datagen = ImageDataGenerator(\n",
        "    rescale=1./255,\n",
        "    validation_split=0.2\n",
        ")\n",
        "\n",
        "# Training and validation data generators\n",
        "train_gen = datagen.flow_from_directory(\n",
        "    '/content/drive/My Drive/Colab Notebooks/Monkey Pox/',\n",
        "    target_size=(128, 128),\n",
        "    batch_size=32,\n",
        "    class_mode='categorical',\n",
        "    subset='training'\n",
        ")\n",
        "\n",
        "val_gen = datagen.flow_from_directory(\n",
        "    '/content/drive/My Drive/Colab Notebooks/Monkey Pox/',\n",
        "    target_size=(128, 128),\n",
        "    batch_size=32,\n",
        "    class_mode='categorical',\n",
        "    subset='validation'\n",
        ")\n",
        "\n",
        "# Verify the shapes of the data\n",
        "batch_x, batch_y = next(train_gen)\n",
        "print(\"Batch x shape:\", batch_x.shape)  # Should be (batch_size, height, width, channels)\n",
        "print(\"Batch y shape:\", batch_y.shape)  # Should be (batch_size, num_classes)\n",
        "\n",
        "# Define the model\n",
        "model = Sequential([\n",
        "    Conv2D(32, (3, 3), activation='relu', input_shape=(128, 128, 3)),\n",
        "    MaxPooling2D(2, 2),\n",
        "    Conv2D(64, (3, 3), activation='relu'),\n",
        "    MaxPooling2D(2, 2),\n",
        "    Conv2D(128, (3, 3), activation='relu'),\n",
        "    MaxPooling2D(2, 2),\n",
        "    Flatten(),\n",
        "    Dense(128, activation='relu'),\n",
        "    Dropout(0.5),\n",
        "    Dense(3, activation='softmax')  # 3 classes: Monkey Pox, Other Poxes, Healthy Skin\n",
        "])\n",
        "\n",
        "# Compile the model\n",
        "model.compile(optimizer='adam', loss='categorical_crossentropy', metrics=['accuracy'])\n",
        "\n",
        "# Train the model\n",
        "model.fit(train_gen, epochs=10, validation_data=val_gen)\n"
      ],
      "metadata": {
        "colab": {
          "base_uri": "https://localhost:8080/"
        },
        "id": "9JYN3BGh-X8D",
        "outputId": "833fe24c-ca92-44b3-959c-211733d11e70"
      },
      "execution_count": 4,
      "outputs": [
        {
          "output_type": "stream",
          "name": "stdout",
          "text": [
            "Found 2683 images belonging to 1 classes.\n",
            "Found 670 images belonging to 1 classes.\n",
            "Batch x shape: (32, 128, 128, 3)\n",
            "Batch y shape: (32, 1)\n",
            "Epoch 1/10\n",
            "84/84 [==============================] - 206s 2s/step - loss: 4235585.5000 - accuracy: 0.4428 - val_loss: 7822405.0000 - val_accuracy: 1.0000\n",
            "Epoch 2/10\n",
            "84/84 [==============================] - 14s 172ms/step - loss: 473102688.0000 - accuracy: 0.4007 - val_loss: 301988832.0000 - val_accuracy: 1.0000\n",
            "Epoch 3/10\n",
            "84/84 [==============================] - 15s 173ms/step - loss: 5824414208.0000 - accuracy: 0.3854 - val_loss: 2222347776.0000 - val_accuracy: 1.0000\n",
            "Epoch 4/10\n",
            "84/84 [==============================] - 15s 176ms/step - loss: 29879736320.0000 - accuracy: 0.3746 - val_loss: 7297614848.0000 - val_accuracy: 1.0000\n",
            "Epoch 5/10\n",
            "84/84 [==============================] - 15s 174ms/step - loss: 96885571584.0000 - accuracy: 0.3671 - val_loss: 14923812864.0000 - val_accuracy: 1.0000\n",
            "Epoch 6/10\n",
            "84/84 [==============================] - 14s 169ms/step - loss: 233185443840.0000 - accuracy: 0.3615 - val_loss: 49870667776.0000 - val_accuracy: 1.0000\n",
            "Epoch 7/10\n",
            "84/84 [==============================] - 14s 172ms/step - loss: 491669553152.0000 - accuracy: 0.3701 - val_loss: 31970938880.0000 - val_accuracy: 1.0000\n",
            "Epoch 8/10\n",
            "84/84 [==============================] - 14s 171ms/step - loss: 910251196416.0000 - accuracy: 0.3563 - val_loss: 108002328576.0000 - val_accuracy: 1.0000\n",
            "Epoch 9/10\n",
            "84/84 [==============================] - 15s 173ms/step - loss: 1507921756160.0000 - accuracy: 0.3559 - val_loss: 237429063680.0000 - val_accuracy: 1.0000\n",
            "Epoch 10/10\n",
            "84/84 [==============================] - 14s 170ms/step - loss: 2394469957632.0000 - accuracy: 0.3600 - val_loss: 174494416896.0000 - val_accuracy: 1.0000\n"
          ]
        },
        {
          "output_type": "execute_result",
          "data": {
            "text/plain": [
              "<keras.src.callbacks.History at 0x7c99be732cb0>"
            ]
          },
          "metadata": {},
          "execution_count": 4
        }
      ]
    },
    {
      "cell_type": "code",
      "source": [
        "# Custom probability calculation function\n",
        "def calculate_probability(image):\n",
        "    # Get the model prediction\n",
        "    prediction = model.predict(image)\n",
        "    X = prediction[0][0]  # Probability of monkeypox\n",
        "\n",
        "    # Symptom categories based on the remaining probability\n",
        "    Y = (1 - X) / 2\n",
        "    Z = (1 - X) / 3\n",
        "    W = (1 - X) / 6\n",
        "\n",
        "    # Final probability of monkeypox infection\n",
        "    final_probability = X + Y + Z + W\n",
        "    return final_probability\n",
        "\n",
        "# Example usage\n",
        "# Assuming `image` is a preprocessed image ready for prediction\n",
        "# final_probability = calculate_probability(image)\n",
        "# print(\"Probability of Monkey Pox Infection:\", final_probability)"
      ],
      "metadata": {
        "id": "1FrIzcAvAczQ"
      },
      "execution_count": 5,
      "outputs": []
    }
  ]
}